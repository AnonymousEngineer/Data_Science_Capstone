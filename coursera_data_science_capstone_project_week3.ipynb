{
 "cells": [
  {
   "cell_type": "markdown",
   "metadata": {},
   "source": [
    "# Applied Data Science Capstone Project (Week 3)\n",
    "## Segmenting and Clustering Neighborhoods in Toronto"
   ]
  },
  {
   "cell_type": "code",
   "execution_count": 97,
   "metadata": {},
   "outputs": [],
   "source": [
    "# Import modules\n",
    "import numpy as np\n",
    "import pandas as pd\n",
    "import requests\n",
    "import json\n",
    "from pandas.io.json import json_normalize\n",
    "import matplotlib.cm as cmap\n",
    "import matplotlib.colors as colors\n",
    "from sklearn.cluster import KMeans\n",
    "from geopy.geocoders import Nominatim\n",
    "import folium"
   ]
  },
  {
   "cell_type": "markdown",
   "metadata": {},
   "source": [
    "## Read the table with pandas and load as a DataFrame"
   ]
  },
  {
   "cell_type": "code",
   "execution_count": 98,
   "metadata": {},
   "outputs": [
    {
     "data": {
      "text/html": [
       "<div>\n",
       "<style scoped>\n",
       "    .dataframe tbody tr th:only-of-type {\n",
       "        vertical-align: middle;\n",
       "    }\n",
       "\n",
       "    .dataframe tbody tr th {\n",
       "        vertical-align: top;\n",
       "    }\n",
       "\n",
       "    .dataframe thead th {\n",
       "        text-align: right;\n",
       "    }\n",
       "</style>\n",
       "<table border=\"1\" class=\"dataframe\">\n",
       "  <thead>\n",
       "    <tr style=\"text-align: right;\">\n",
       "      <th></th>\n",
       "      <th>Postal Code</th>\n",
       "      <th>Borough</th>\n",
       "      <th>Neighbourhood</th>\n",
       "    </tr>\n",
       "  </thead>\n",
       "  <tbody>\n",
       "    <tr>\n",
       "      <th>0</th>\n",
       "      <td>M1A</td>\n",
       "      <td>Not assigned</td>\n",
       "      <td>Not assigned</td>\n",
       "    </tr>\n",
       "    <tr>\n",
       "      <th>1</th>\n",
       "      <td>M2A</td>\n",
       "      <td>Not assigned</td>\n",
       "      <td>Not assigned</td>\n",
       "    </tr>\n",
       "    <tr>\n",
       "      <th>2</th>\n",
       "      <td>M3A</td>\n",
       "      <td>North York</td>\n",
       "      <td>Parkwoods</td>\n",
       "    </tr>\n",
       "    <tr>\n",
       "      <th>3</th>\n",
       "      <td>M4A</td>\n",
       "      <td>North York</td>\n",
       "      <td>Victoria Village</td>\n",
       "    </tr>\n",
       "    <tr>\n",
       "      <th>4</th>\n",
       "      <td>M5A</td>\n",
       "      <td>Downtown Toronto</td>\n",
       "      <td>Regent Park, Harbourfront</td>\n",
       "    </tr>\n",
       "  </tbody>\n",
       "</table>\n",
       "</div>"
      ],
      "text/plain": [
       "  Postal Code           Borough              Neighbourhood\n",
       "0         M1A      Not assigned               Not assigned\n",
       "1         M2A      Not assigned               Not assigned\n",
       "2         M3A        North York                  Parkwoods\n",
       "3         M4A        North York           Victoria Village\n",
       "4         M5A  Downtown Toronto  Regent Park, Harbourfront"
      ]
     },
     "execution_count": 98,
     "metadata": {},
     "output_type": "execute_result"
    }
   ],
   "source": [
    "# Scrape data from Wikipedia page\n",
    "url = 'https://en.wikipedia.org/wiki/List_of_postal_codes_of_Canada:_M'\n",
    "df_alldata = pd.read_html(url, header=0)[0]\n",
    "df_alldata.head()"
   ]
  },
  {
   "cell_type": "markdown",
   "metadata": {},
   "source": [
    "## Remove Boroughs that are 'Not assigned'"
   ]
  },
  {
   "cell_type": "code",
   "execution_count": 99,
   "metadata": {},
   "outputs": [
    {
     "data": {
      "text/html": [
       "<div>\n",
       "<style scoped>\n",
       "    .dataframe tbody tr th:only-of-type {\n",
       "        vertical-align: middle;\n",
       "    }\n",
       "\n",
       "    .dataframe tbody tr th {\n",
       "        vertical-align: top;\n",
       "    }\n",
       "\n",
       "    .dataframe thead th {\n",
       "        text-align: right;\n",
       "    }\n",
       "</style>\n",
       "<table border=\"1\" class=\"dataframe\">\n",
       "  <thead>\n",
       "    <tr style=\"text-align: right;\">\n",
       "      <th></th>\n",
       "      <th>Postal Code</th>\n",
       "      <th>Borough</th>\n",
       "      <th>Neighbourhood</th>\n",
       "    </tr>\n",
       "  </thead>\n",
       "  <tbody>\n",
       "    <tr>\n",
       "      <th>0</th>\n",
       "      <td>M3A</td>\n",
       "      <td>North York</td>\n",
       "      <td>Parkwoods</td>\n",
       "    </tr>\n",
       "    <tr>\n",
       "      <th>1</th>\n",
       "      <td>M4A</td>\n",
       "      <td>North York</td>\n",
       "      <td>Victoria Village</td>\n",
       "    </tr>\n",
       "    <tr>\n",
       "      <th>2</th>\n",
       "      <td>M5A</td>\n",
       "      <td>Downtown Toronto</td>\n",
       "      <td>Regent Park, Harbourfront</td>\n",
       "    </tr>\n",
       "    <tr>\n",
       "      <th>3</th>\n",
       "      <td>M6A</td>\n",
       "      <td>North York</td>\n",
       "      <td>Lawrence Manor, Lawrence Heights</td>\n",
       "    </tr>\n",
       "    <tr>\n",
       "      <th>4</th>\n",
       "      <td>M7A</td>\n",
       "      <td>Downtown Toronto</td>\n",
       "      <td>Queen's Park, Ontario Provincial Government</td>\n",
       "    </tr>\n",
       "  </tbody>\n",
       "</table>\n",
       "</div>"
      ],
      "text/plain": [
       "  Postal Code           Borough                                Neighbourhood\n",
       "0         M3A        North York                                    Parkwoods\n",
       "1         M4A        North York                             Victoria Village\n",
       "2         M5A  Downtown Toronto                    Regent Park, Harbourfront\n",
       "3         M6A        North York             Lawrence Manor, Lawrence Heights\n",
       "4         M7A  Downtown Toronto  Queen's Park, Ontario Provincial Government"
      ]
     },
     "execution_count": 99,
     "metadata": {},
     "output_type": "execute_result"
    }
   ],
   "source": [
    "#Remove Boroughs that are 'Not assigned'\n",
    "df_canada = df_alldata[df_alldata.Borough != 'Not assigned'].reset_index(drop = True)\n",
    "df_canada.head()"
   ]
  },
  {
   "cell_type": "markdown",
   "metadata": {},
   "source": [
    "## If more than one neighborhood exist in one postal code area, combined them into one row with the neighborhoods separated with commas\n",
    "\n",
    "## Once combined, remove the duplicates "
   ]
  },
  {
   "cell_type": "code",
   "execution_count": 100,
   "metadata": {},
   "outputs": [
    {
     "data": {
      "text/html": [
       "<div>\n",
       "<style scoped>\n",
       "    .dataframe tbody tr th:only-of-type {\n",
       "        vertical-align: middle;\n",
       "    }\n",
       "\n",
       "    .dataframe tbody tr th {\n",
       "        vertical-align: top;\n",
       "    }\n",
       "\n",
       "    .dataframe thead th {\n",
       "        text-align: right;\n",
       "    }\n",
       "</style>\n",
       "<table border=\"1\" class=\"dataframe\">\n",
       "  <thead>\n",
       "    <tr style=\"text-align: right;\">\n",
       "      <th></th>\n",
       "      <th>Postal Code</th>\n",
       "      <th>Borough</th>\n",
       "      <th>Neighbourhood</th>\n",
       "    </tr>\n",
       "  </thead>\n",
       "  <tbody>\n",
       "    <tr>\n",
       "      <th>0</th>\n",
       "      <td>M3A</td>\n",
       "      <td>North York</td>\n",
       "      <td>Parkwoods</td>\n",
       "    </tr>\n",
       "    <tr>\n",
       "      <th>1</th>\n",
       "      <td>M4A</td>\n",
       "      <td>North York</td>\n",
       "      <td>Victoria Village</td>\n",
       "    </tr>\n",
       "    <tr>\n",
       "      <th>2</th>\n",
       "      <td>M5A</td>\n",
       "      <td>Downtown Toronto</td>\n",
       "      <td>Regent Park, Harbourfront</td>\n",
       "    </tr>\n",
       "    <tr>\n",
       "      <th>3</th>\n",
       "      <td>M6A</td>\n",
       "      <td>North York</td>\n",
       "      <td>Lawrence Manor, Lawrence Heights</td>\n",
       "    </tr>\n",
       "    <tr>\n",
       "      <th>4</th>\n",
       "      <td>M7A</td>\n",
       "      <td>Downtown Toronto</td>\n",
       "      <td>Queen's Park, Ontario Provincial Government</td>\n",
       "    </tr>\n",
       "  </tbody>\n",
       "</table>\n",
       "</div>"
      ],
      "text/plain": [
       "  Postal Code           Borough                                Neighbourhood\n",
       "0         M3A        North York                                    Parkwoods\n",
       "1         M4A        North York                             Victoria Village\n",
       "2         M5A  Downtown Toronto                    Regent Park, Harbourfront\n",
       "3         M6A        North York             Lawrence Manor, Lawrence Heights\n",
       "4         M7A  Downtown Toronto  Queen's Park, Ontario Provincial Government"
      ]
     },
     "execution_count": 100,
     "metadata": {},
     "output_type": "execute_result"
    }
   ],
   "source": [
    "# combine neighborhoods in same postal code in one row with the neighborhoods separated with commas\n",
    "df_canada[\"Neighbourhood\"] = df_canada.groupby(\"Postal Code\")[\"Neighbourhood\"].transform(lambda ii: ', '.join(ii))\n",
    "\n",
    "#remove duplicates\n",
    "df_canada = df_canada.drop_duplicates()\n",
    "df_canada.head()"
   ]
  },
  {
   "cell_type": "markdown",
   "metadata": {},
   "source": [
    "## If a cell has a borough but a \"Not assigned\" neighborhood, then the neighborhood will be the same as the borough"
   ]
  },
  {
   "cell_type": "code",
   "execution_count": 101,
   "metadata": {},
   "outputs": [
    {
     "name": "stdout",
     "output_type": "stream",
     "text": [
      "No neighborhood with \"Not assigned\" status\n"
     ]
    }
   ],
   "source": [
    "# cell has a borough but a Not assigned neighborhood, then the neighborhood will be the same as the borough\n",
    "if sum(df_canada[\"Neighbourhood\"] == \"Not assigned\")==0:\n",
    "    print(\"No neighborhood with \\\"Not assigned\\\" status\")\n",
    "else:\n",
    "    for idx, row in df_canada.iterrows():\n",
    "        if row[\"Neighbourhood\"] == \"Not assigned\":\n",
    "            df_canada.at[idx, \"Neighbourhood\"] == row[\"Borough\"]\n",
    "    print(\"Filled Neighborhood info\")"
   ]
  },
  {
   "cell_type": "markdown",
   "metadata": {},
   "source": [
    "## Print DataFrame shape"
   ]
  },
  {
   "cell_type": "code",
   "execution_count": 102,
   "metadata": {},
   "outputs": [
    {
     "data": {
      "text/plain": [
       "(103, 3)"
      ]
     },
     "execution_count": 102,
     "metadata": {},
     "output_type": "execute_result"
    }
   ],
   "source": [
    "# print DataFrame shape\n",
    "df_canada.shape"
   ]
  },
  {
   "cell_type": "markdown",
   "metadata": {},
   "source": [
    "# Get the latitude and the longitude coordinates of each neighborhood to use with FourSquare API\n",
    "\n",
    "## get the geospatial Coordinates Data from https://cocl.us/Geospatial_data"
   ]
  },
  {
   "cell_type": "code",
   "execution_count": 103,
   "metadata": {},
   "outputs": [
    {
     "data": {
      "text/html": [
       "<div>\n",
       "<style scoped>\n",
       "    .dataframe tbody tr th:only-of-type {\n",
       "        vertical-align: middle;\n",
       "    }\n",
       "\n",
       "    .dataframe tbody tr th {\n",
       "        vertical-align: top;\n",
       "    }\n",
       "\n",
       "    .dataframe thead th {\n",
       "        text-align: right;\n",
       "    }\n",
       "</style>\n",
       "<table border=\"1\" class=\"dataframe\">\n",
       "  <thead>\n",
       "    <tr style=\"text-align: right;\">\n",
       "      <th></th>\n",
       "      <th>Postal Code</th>\n",
       "      <th>Latitude</th>\n",
       "      <th>Longitude</th>\n",
       "    </tr>\n",
       "  </thead>\n",
       "  <tbody>\n",
       "    <tr>\n",
       "      <th>0</th>\n",
       "      <td>M1B</td>\n",
       "      <td>43.806686</td>\n",
       "      <td>-79.194353</td>\n",
       "    </tr>\n",
       "    <tr>\n",
       "      <th>1</th>\n",
       "      <td>M1C</td>\n",
       "      <td>43.784535</td>\n",
       "      <td>-79.160497</td>\n",
       "    </tr>\n",
       "    <tr>\n",
       "      <th>2</th>\n",
       "      <td>M1E</td>\n",
       "      <td>43.763573</td>\n",
       "      <td>-79.188711</td>\n",
       "    </tr>\n",
       "    <tr>\n",
       "      <th>3</th>\n",
       "      <td>M1G</td>\n",
       "      <td>43.770992</td>\n",
       "      <td>-79.216917</td>\n",
       "    </tr>\n",
       "    <tr>\n",
       "      <th>4</th>\n",
       "      <td>M1H</td>\n",
       "      <td>43.773136</td>\n",
       "      <td>-79.239476</td>\n",
       "    </tr>\n",
       "  </tbody>\n",
       "</table>\n",
       "</div>"
      ],
      "text/plain": [
       "  Postal Code   Latitude  Longitude\n",
       "0         M1B  43.806686 -79.194353\n",
       "1         M1C  43.784535 -79.160497\n",
       "2         M1E  43.763573 -79.188711\n",
       "3         M1G  43.770992 -79.216917\n",
       "4         M1H  43.773136 -79.239476"
      ]
     },
     "execution_count": 103,
     "metadata": {},
     "output_type": "execute_result"
    }
   ],
   "source": [
    "# get the location data and load in a DataFrame\n",
    "url='https://cocl.us/Geospatial_data/Geospatial_Coordinates.csv'\n",
    "df_geocoord=pd.read_csv(url)\n",
    "df_geocoord.head()"
   ]
  },
  {
   "cell_type": "markdown",
   "metadata": {},
   "source": [
    "## Merge two dataframes based on 'PostalCode' "
   ]
  },
  {
   "cell_type": "code",
   "execution_count": 104,
   "metadata": {},
   "outputs": [
    {
     "data": {
      "text/html": [
       "<div>\n",
       "<style scoped>\n",
       "    .dataframe tbody tr th:only-of-type {\n",
       "        vertical-align: middle;\n",
       "    }\n",
       "\n",
       "    .dataframe tbody tr th {\n",
       "        vertical-align: top;\n",
       "    }\n",
       "\n",
       "    .dataframe thead th {\n",
       "        text-align: right;\n",
       "    }\n",
       "</style>\n",
       "<table border=\"1\" class=\"dataframe\">\n",
       "  <thead>\n",
       "    <tr style=\"text-align: right;\">\n",
       "      <th></th>\n",
       "      <th>Postal Code</th>\n",
       "      <th>Borough</th>\n",
       "      <th>Neighbourhood</th>\n",
       "      <th>Latitude</th>\n",
       "      <th>Longitude</th>\n",
       "    </tr>\n",
       "  </thead>\n",
       "  <tbody>\n",
       "    <tr>\n",
       "      <th>0</th>\n",
       "      <td>M3A</td>\n",
       "      <td>North York</td>\n",
       "      <td>Parkwoods</td>\n",
       "      <td>43.753259</td>\n",
       "      <td>-79.329656</td>\n",
       "    </tr>\n",
       "    <tr>\n",
       "      <th>1</th>\n",
       "      <td>M4A</td>\n",
       "      <td>North York</td>\n",
       "      <td>Victoria Village</td>\n",
       "      <td>43.725882</td>\n",
       "      <td>-79.315572</td>\n",
       "    </tr>\n",
       "    <tr>\n",
       "      <th>2</th>\n",
       "      <td>M5A</td>\n",
       "      <td>Downtown Toronto</td>\n",
       "      <td>Regent Park, Harbourfront</td>\n",
       "      <td>43.654260</td>\n",
       "      <td>-79.360636</td>\n",
       "    </tr>\n",
       "    <tr>\n",
       "      <th>3</th>\n",
       "      <td>M6A</td>\n",
       "      <td>North York</td>\n",
       "      <td>Lawrence Manor, Lawrence Heights</td>\n",
       "      <td>43.718518</td>\n",
       "      <td>-79.464763</td>\n",
       "    </tr>\n",
       "    <tr>\n",
       "      <th>4</th>\n",
       "      <td>M7A</td>\n",
       "      <td>Downtown Toronto</td>\n",
       "      <td>Queen's Park, Ontario Provincial Government</td>\n",
       "      <td>43.662301</td>\n",
       "      <td>-79.389494</td>\n",
       "    </tr>\n",
       "  </tbody>\n",
       "</table>\n",
       "</div>"
      ],
      "text/plain": [
       "  Postal Code           Borough                                Neighbourhood  \\\n",
       "0         M3A        North York                                    Parkwoods   \n",
       "1         M4A        North York                             Victoria Village   \n",
       "2         M5A  Downtown Toronto                    Regent Park, Harbourfront   \n",
       "3         M6A        North York             Lawrence Manor, Lawrence Heights   \n",
       "4         M7A  Downtown Toronto  Queen's Park, Ontario Provincial Government   \n",
       "\n",
       "    Latitude  Longitude  \n",
       "0  43.753259 -79.329656  \n",
       "1  43.725882 -79.315572  \n",
       "2  43.654260 -79.360636  \n",
       "3  43.718518 -79.464763  \n",
       "4  43.662301 -79.389494  "
      ]
     },
     "execution_count": 104,
     "metadata": {},
     "output_type": "execute_result"
    }
   ],
   "source": [
    "df_canada = pd.merge(df_canada, df_geocoord, on = 'Postal Code')\n",
    "df_canada.head()"
   ]
  },
  {
   "cell_type": "markdown",
   "metadata": {},
   "source": [
    "## Filter the DataFrame for Canada to keep only the rows in which \"Borough\" contains the word \"Toronto\""
   ]
  },
  {
   "cell_type": "code",
   "execution_count": 105,
   "metadata": {},
   "outputs": [
    {
     "data": {
      "text/html": [
       "<div>\n",
       "<style scoped>\n",
       "    .dataframe tbody tr th:only-of-type {\n",
       "        vertical-align: middle;\n",
       "    }\n",
       "\n",
       "    .dataframe tbody tr th {\n",
       "        vertical-align: top;\n",
       "    }\n",
       "\n",
       "    .dataframe thead th {\n",
       "        text-align: right;\n",
       "    }\n",
       "</style>\n",
       "<table border=\"1\" class=\"dataframe\">\n",
       "  <thead>\n",
       "    <tr style=\"text-align: right;\">\n",
       "      <th></th>\n",
       "      <th>Postal Code</th>\n",
       "      <th>Borough</th>\n",
       "      <th>Neighbourhood</th>\n",
       "      <th>Latitude</th>\n",
       "      <th>Longitude</th>\n",
       "    </tr>\n",
       "  </thead>\n",
       "  <tbody>\n",
       "    <tr>\n",
       "      <th>0</th>\n",
       "      <td>M5A</td>\n",
       "      <td>Downtown Toronto</td>\n",
       "      <td>Regent Park, Harbourfront</td>\n",
       "      <td>43.654260</td>\n",
       "      <td>-79.360636</td>\n",
       "    </tr>\n",
       "    <tr>\n",
       "      <th>1</th>\n",
       "      <td>M7A</td>\n",
       "      <td>Downtown Toronto</td>\n",
       "      <td>Queen's Park, Ontario Provincial Government</td>\n",
       "      <td>43.662301</td>\n",
       "      <td>-79.389494</td>\n",
       "    </tr>\n",
       "    <tr>\n",
       "      <th>2</th>\n",
       "      <td>M5B</td>\n",
       "      <td>Downtown Toronto</td>\n",
       "      <td>Garden District, Ryerson</td>\n",
       "      <td>43.657162</td>\n",
       "      <td>-79.378937</td>\n",
       "    </tr>\n",
       "    <tr>\n",
       "      <th>3</th>\n",
       "      <td>M5C</td>\n",
       "      <td>Downtown Toronto</td>\n",
       "      <td>St. James Town</td>\n",
       "      <td>43.651494</td>\n",
       "      <td>-79.375418</td>\n",
       "    </tr>\n",
       "    <tr>\n",
       "      <th>4</th>\n",
       "      <td>M4E</td>\n",
       "      <td>East Toronto</td>\n",
       "      <td>The Beaches</td>\n",
       "      <td>43.676357</td>\n",
       "      <td>-79.293031</td>\n",
       "    </tr>\n",
       "  </tbody>\n",
       "</table>\n",
       "</div>"
      ],
      "text/plain": [
       "  Postal Code           Borough                                Neighbourhood  \\\n",
       "0         M5A  Downtown Toronto                    Regent Park, Harbourfront   \n",
       "1         M7A  Downtown Toronto  Queen's Park, Ontario Provincial Government   \n",
       "2         M5B  Downtown Toronto                     Garden District, Ryerson   \n",
       "3         M5C  Downtown Toronto                               St. James Town   \n",
       "4         M4E      East Toronto                                  The Beaches   \n",
       "\n",
       "    Latitude  Longitude  \n",
       "0  43.654260 -79.360636  \n",
       "1  43.662301 -79.389494  \n",
       "2  43.657162 -79.378937  \n",
       "3  43.651494 -79.375418  \n",
       "4  43.676357 -79.293031  "
      ]
     },
     "execution_count": 105,
     "metadata": {},
     "output_type": "execute_result"
    }
   ],
   "source": [
    "df_toronto=df_canada[df_canada['Borough'].str.contains('Toronto')]\n",
    "df_toronto=df_toronto.reset_index(drop=True)\n",
    "df_toronto.head()"
   ]
  },
  {
   "cell_type": "code",
   "execution_count": 106,
   "metadata": {},
   "outputs": [
    {
     "data": {
      "text/plain": [
       "array(['Downtown Toronto', 'East Toronto', 'West Toronto',\n",
       "       'Central Toronto'], dtype=object)"
      ]
     },
     "execution_count": 106,
     "metadata": {},
     "output_type": "execute_result"
    }
   ],
   "source": [
    "# Learn the different value of Borough \n",
    "df_toronto['Borough'].unique()"
   ]
  },
  {
   "cell_type": "markdown",
   "metadata": {},
   "source": [
    "## visualize the Toronto data by coordinates"
   ]
  },
  {
   "cell_type": "code",
   "execution_count": 107,
   "metadata": {},
   "outputs": [
    {
     "name": "stdout",
     "output_type": "stream",
     "text": [
      "Coordinate of Toronto: 43.6534817, -79.3839347.\n"
     ]
    }
   ],
   "source": [
    "geolocator = Nominatim(user_agent=\"toronto_explorer\")\n",
    "Toronto_coord = geolocator.geocode(\"Toronto\")\n",
    "Toronto_lat = Toronto_coord.latitude\n",
    "Toronto_longi = Toronto_coord.longitude\n",
    "print(f'Coordinate of Toronto: {Toronto_lat}, {Toronto_longi}.')"
   ]
  },
  {
   "cell_type": "markdown",
   "metadata": {},
   "source": [
    "## Create a clustering of Toronto"
   ]
  },
  {
   "cell_type": "code",
   "execution_count": 108,
   "metadata": {},
   "outputs": [
    {
     "name": "stdout",
     "output_type": "stream",
     "text": [
      "['#8000ff', '#2adddd', '#d4dd80', '#ff0000']\n"
     ]
    }
   ],
   "source": [
    "# define the number of max clusters\n",
    "kmax =len(df_toronto.Borough.unique())\n",
    "\n",
    "# create map\n",
    "toronto_map = folium.Map(location=[Toronto_lat, Toronto_longi], zoom_start=25)\n",
    "\n",
    "# set color scheme for the clusters\n",
    "x = np.arange(kmax)\n",
    "ys = [i + x + (i*x)**2 for i in range(kmax)]\n",
    "colors_array = cmap.rainbow(np.linspace(0, 1, len(ys)))\n",
    "rainbow = [colors.rgb2hex(i) for i in colors_array]\n",
    "print(rainbow)"
   ]
  },
  {
   "cell_type": "markdown",
   "metadata": {},
   "source": [
    "### create a map of Toronto first"
   ]
  },
  {
   "cell_type": "code",
   "execution_count": 109,
   "metadata": {},
   "outputs": [
    {
     "data": {
      "text/html": [
       "<div style=\"width:100%;\"><div style=\"position:relative;width:100%;height:0;padding-bottom:60%;\"><span style=\"color:#565656\">Make this Notebook Trusted to load map: File -> Trust Notebook</span><iframe src=\"about:blank\" style=\"position:absolute;width:100%;height:100%;left:0;top:0;border:none !important;\" data-html=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 onload=\"this.contentDocument.open();this.contentDocument.write(atob(this.getAttribute('data-html')));this.contentDocument.close();\" allowfullscreen webkitallowfullscreen mozallowfullscreen></iframe></div></div>"
      ],
      "text/plain": [
       "<folium.folium.Map at 0x220758f7f48>"
      ]
     },
     "execution_count": 109,
     "metadata": {},
     "output_type": "execute_result"
    }
   ],
   "source": [
    "# add markers to map\n",
    "for lat, lng, borough, neighborhood in zip(df_toronto['Latitude'], df_toronto['Longitude'], df_toronto['Borough'], df_toronto['Neighbourhood']):\n",
    "    label = '{}, {}'.format(neighborhood, borough)\n",
    "    label = folium.Popup(label, parse_html=True)\n",
    "    folium.CircleMarker(\n",
    "        [lat, lng],\n",
    "        radius=5,\n",
    "        popup=label,\n",
    "        color='blue',\n",
    "        fill=True,\n",
    "        fill_opacity=0.7,\n",
    "        parse_html=False).add_to(toronto_map)  \n",
    "toronto_map"
   ]
  },
  {
   "cell_type": "markdown",
   "metadata": {},
   "source": [
    "### create DataFrame for clustering"
   ]
  },
  {
   "cell_type": "code",
   "execution_count": 110,
   "metadata": {},
   "outputs": [],
   "source": [
    "df_toronto_clustering = df_toronto.drop(['Postal Code','Borough','Neighbourhood'],1).copy(deep=True)\n",
    "kmeans = KMeans(n_clusters = kmax,random_state=0).fit(df_toronto_clustering)\n",
    "kmeans.labels_\n",
    "df_toronto_clustering.insert(0, 'Cluster Labels', kmeans.labels_)"
   ]
  },
  {
   "cell_type": "code",
   "execution_count": 111,
   "metadata": {},
   "outputs": [
    {
     "data": {
      "text/html": [
       "<div>\n",
       "<style scoped>\n",
       "    .dataframe tbody tr th:only-of-type {\n",
       "        vertical-align: middle;\n",
       "    }\n",
       "\n",
       "    .dataframe tbody tr th {\n",
       "        vertical-align: top;\n",
       "    }\n",
       "\n",
       "    .dataframe thead th {\n",
       "        text-align: right;\n",
       "    }\n",
       "</style>\n",
       "<table border=\"1\" class=\"dataframe\">\n",
       "  <thead>\n",
       "    <tr style=\"text-align: right;\">\n",
       "      <th></th>\n",
       "      <th>Cluster Labels</th>\n",
       "      <th>Latitude</th>\n",
       "      <th>Longitude</th>\n",
       "    </tr>\n",
       "  </thead>\n",
       "  <tbody>\n",
       "    <tr>\n",
       "      <th>0</th>\n",
       "      <td>1</td>\n",
       "      <td>43.654260</td>\n",
       "      <td>-79.360636</td>\n",
       "    </tr>\n",
       "    <tr>\n",
       "      <th>1</th>\n",
       "      <td>1</td>\n",
       "      <td>43.662301</td>\n",
       "      <td>-79.389494</td>\n",
       "    </tr>\n",
       "    <tr>\n",
       "      <th>2</th>\n",
       "      <td>1</td>\n",
       "      <td>43.657162</td>\n",
       "      <td>-79.378937</td>\n",
       "    </tr>\n",
       "    <tr>\n",
       "      <th>3</th>\n",
       "      <td>1</td>\n",
       "      <td>43.651494</td>\n",
       "      <td>-79.375418</td>\n",
       "    </tr>\n",
       "    <tr>\n",
       "      <th>4</th>\n",
       "      <td>3</td>\n",
       "      <td>43.676357</td>\n",
       "      <td>-79.293031</td>\n",
       "    </tr>\n",
       "  </tbody>\n",
       "</table>\n",
       "</div>"
      ],
      "text/plain": [
       "   Cluster Labels   Latitude  Longitude\n",
       "0               1  43.654260 -79.360636\n",
       "1               1  43.662301 -79.389494\n",
       "2               1  43.657162 -79.378937\n",
       "3               1  43.651494 -79.375418\n",
       "4               3  43.676357 -79.293031"
      ]
     },
     "execution_count": 111,
     "metadata": {},
     "output_type": "execute_result"
    }
   ],
   "source": [
    "# print clustering DataFrame \n",
    "df_toronto_clustering.head()"
   ]
  },
  {
   "cell_type": "markdown",
   "metadata": {},
   "source": [
    "### Create the clustered map"
   ]
  },
  {
   "cell_type": "code",
   "execution_count": 112,
   "metadata": {},
   "outputs": [
    {
     "data": {
      "text/html": [
       "<div style=\"width:100%;\"><div style=\"position:relative;width:100%;height:0;padding-bottom:60%;\"><span style=\"color:#565656\">Make this Notebook Trusted to load map: File -> Trust Notebook</span><iframe src=\"about:blank\" style=\"position:absolute;width:100%;height:100%;left:0;top:0;border:none !important;\" data-html=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 onload=\"this.contentDocument.open();this.contentDocument.write(atob(this.getAttribute('data-html')));this.contentDocument.close();\" allowfullscreen webkitallowfullscreen mozallowfullscreen></iframe></div></div>"
      ],
      "text/plain": [
       "<folium.folium.Map at 0x220759752c8>"
      ]
     },
     "execution_count": 112,
     "metadata": {},
     "output_type": "execute_result"
    }
   ],
   "source": [
    "# create map\n",
    "map_clusters = folium.Map(location=[43.651070,-79.347015],zoom_start=10)\n",
    "\n",
    "# set color scheme for the clusters\n",
    "x = np.arange(kmax)\n",
    "ys = [i + x + (i*x)**2 for i in range(kmax)]\n",
    "colors_array = cmap.rainbow(np.linspace(0, 1, len(ys)))\n",
    "rainbow = [colors.rgb2hex(i) for i in colors_array]\n",
    "\n",
    "# add markers to the map\n",
    "markers_colors = []\n",
    "for lat, lon, neighbourhood, cluster in zip(df_toronto_clustering['Latitude'], df_toronto_clustering['Longitude'], df_toronto['Neighbourhood'], df_toronto_clustering['Cluster Labels']):\n",
    "    label = folium.Popup(' Cluster ' + str(cluster), parse_html=True)\n",
    "    folium.CircleMarker(\n",
    "        [lat, lon],\n",
    "        radius=5,\n",
    "        popup=label,\n",
    "        color=rainbow[cluster-1],\n",
    "        fill=True,\n",
    "        fill_color=rainbow[cluster-1],\n",
    "        fill_opacity=0.7).add_to(map_clusters)      \n",
    "map_clusters"
   ]
  },
  {
   "cell_type": "code",
   "execution_count": null,
   "metadata": {},
   "outputs": [],
   "source": []
  }
 ],
 "metadata": {
  "kernelspec": {
   "display_name": "Python 3",
   "language": "python",
   "name": "python3"
  },
  "language_info": {
   "codemirror_mode": {
    "name": "ipython",
    "version": 3
   },
   "file_extension": ".py",
   "mimetype": "text/x-python",
   "name": "python",
   "nbconvert_exporter": "python",
   "pygments_lexer": "ipython3",
   "version": "3.7.9"
  }
 },
 "nbformat": 4,
 "nbformat_minor": 4
}
