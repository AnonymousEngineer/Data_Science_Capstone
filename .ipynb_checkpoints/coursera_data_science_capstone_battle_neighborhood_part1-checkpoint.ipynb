{
 "cells": [
  {
   "cell_type": "markdown",
   "metadata": {},
   "source": [
    "# Data Science Capstone Project - The Battle of Neighborhoods (Part 1)"
   ]
  },
  {
   "cell_type": "markdown",
   "metadata": {},
   "source": [
    "## Introduction"
   ]
  },
  {
   "cell_type": "markdown",
   "metadata": {},
   "source": [
    "New York City is widely considered to be the greatest city on earth. A large and ethnically diverse metropolis with a population of over 25 million, with can claim to have all languages on earth being spoken wby residents every single day. Over the last two centuries, people from all around the world have come to this city and have called it home. \n",
    "\n",
    "New York City is the \"melting pot\" in the United States, a city of immigrants and by far the leading metropolitan  for legal immigrants entering the United States. Among the most prominent immigrant groups to the city are the Italians who flocked to the country in the early parts of last century. The majority of these Italians who came to NYC were very poor, and could barely afford high quality meat, or dough. As a result they had to innovate. If you have been to Italy (especially Naples) you know that traditionally Italians use nothing other than marinana sauce on their pizzas. American style pizza with meat toppings were invented in the New York City by immigrants who could not afford to buy good cuts of meat, or high quality marinara sauce, or dough. As a result they blended everything together to make something that tastes good. Similarly, all other dishes also evolved from what it used to be in Italy. \n",
    "\n",
    "As a connoisseur of pizza, I will list and visualize all major parts of New York City that has great pizza restaurants."
   ]
  },
  {
   "cell_type": "markdown",
   "metadata": {},
   "source": [
    "## Data Sources"
   ]
  },
  {
   "cell_type": "markdown",
   "metadata": {},
   "source": [
    "* New York City data from Cognitive Class.\n",
    "    * Data source : https://cocl.us/new_york_dataset\n",
    "\n",
    "* Resturants in each neighborhood of NYC.\n",
    "    * Data source : Fousquare API\n",
    "\n",
    "* GeoSpace data\n",
    "    * Data source : https://data.cityofnewyork.us/City-Government/Borough-Boundaries/tqmj-j8zm"
   ]
  },
  {
   "cell_type": "markdown",
   "metadata": {},
   "source": [
    "## Methodology\n",
    "\n",
    "* Collect NYC data https://cocl.us/new_york_dataset\n",
    "* Use FourSquare API to find restaurants for each neighborhood in NYC.\n",
    "* Filter to keep only Pizza restaurants\n",
    "* Use ratings, tips and like counts for all Italian restaurants\n",
    "* Visualize the ranking of neighborhoods using folium library(python) based on what is the best neighborhood for a Italian cuisine connoisseur"
   ]
  },
  {
   "cell_type": "markdown",
   "metadata": {},
   "source": [
    "## Questions that can be asked using the above mentioned datasets"
   ]
  },
  {
   "cell_type": "markdown",
   "metadata": {},
   "source": [
    "* What is best area of New York City for pizza  connoisseurs?\n",
    "* Any area that still could use pizza restaurants?\n",
    "* Which is the best place to live in NYC for pizza connoisseurs?"
   ]
  },
  {
   "cell_type": "markdown",
   "metadata": {},
   "source": [
    "## Analysis"
   ]
  },
  {
   "cell_type": "markdown",
   "metadata": {},
   "source": [
    "Keeping it simple, we will use the following libraries:\n",
    "* pandas and numpy\n",
    "* request module for FourSquare API.\n",
    "* geopy to get co-ordinates of NYC.\n",
    "* folium to visualize results on a map"
   ]
  },
  {
   "cell_type": "markdown",
   "metadata": {},
   "source": [
    "### Thats all I have planned so far. Thank you for reviewing it!"
   ]
  }
 ],
 "metadata": {
  "kernelspec": {
   "display_name": "Python 3",
   "language": "python",
   "name": "python3"
  },
  "language_info": {
   "codemirror_mode": {
    "name": "ipython",
    "version": 3
   },
   "file_extension": ".py",
   "mimetype": "text/x-python",
   "name": "python",
   "nbconvert_exporter": "python",
   "pygments_lexer": "ipython3",
   "version": "3.7.9"
  }
 },
 "nbformat": 4,
 "nbformat_minor": 4
}
